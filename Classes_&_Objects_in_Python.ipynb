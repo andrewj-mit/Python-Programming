{
  "nbformat": 4,
  "nbformat_minor": 0,
  "metadata": {
    "colab": {
      "name": "Classes & Objects in Python.ipynb",
      "provenance": [],
      "authorship_tag": "ABX9TyOs4z5gUZH00zENnyjcu72S",
      "include_colab_link": true
    },
    "kernelspec": {
      "name": "python3",
      "display_name": "Python 3"
    },
    "language_info": {
      "name": "python"
    }
  },
  "cells": [
    {
      "cell_type": "markdown",
      "metadata": {
        "id": "view-in-github",
        "colab_type": "text"
      },
      "source": [
        "<a href=\"https://colab.research.google.com/github/onesimuj/Python-Programming/blob/main/Classes_%26_Objects_in_Python.ipynb\" target=\"_parent\"><img src=\"https://colab.research.google.com/assets/colab-badge.svg\" alt=\"Open In Colab\"/></a>"
      ]
    },
    {
      "cell_type": "markdown",
      "metadata": {
        "id": "mnrD7ELOjC0f"
      },
      "source": [
        "#<b>Python Classes and Objects"
      ]
    },
    {
      "cell_type": "markdown",
      "metadata": {
        "id": "fWw5cVOs0Bf6"
      },
      "source": [
        "##Python Classes/Objects\n",
        "Python is an object oriented programming language.\n",
        "\n",
        "Almost everything in Python is an object, with its properties and methods.\n",
        "\n",
        "A Class is like an object constructor, or a \"blueprint\" for creating objects."
      ]
    },
    {
      "cell_type": "markdown",
      "metadata": {
        "id": "YPGMdrWsnQGq"
      },
      "source": [
        "##Create a Class\n",
        "To create a class, use the keyword class:"
      ]
    },
    {
      "cell_type": "code",
      "metadata": {
        "id": "qdeD110ijKGv",
        "colab": {
          "base_uri": "https://localhost:8080/"
        },
        "outputId": "2c7c36f3-12de-4197-e0d2-29b012cc3290"
      },
      "source": [
        "class Myclass:\n",
        "  number = 10\n",
        "  mark1 = 50\n",
        "  mark2= 60\n",
        "\n",
        "print(Myclass.mark1)"
      ],
      "execution_count": 4,
      "outputs": [
        {
          "output_type": "stream",
          "name": "stdout",
          "text": [
            "50\n"
          ]
        }
      ]
    },
    {
      "cell_type": "markdown",
      "metadata": {
        "id": "1m67ozw3nXiZ"
      },
      "source": [
        "## Accessing the class property\n",
        "The members defined inside the class can be accessed through <i> class name</l> "
      ]
    },
    {
      "cell_type": "code",
      "metadata": {
        "colab": {
          "base_uri": "https://localhost:8080/"
        },
        "id": "sAkmLmfo1mGb",
        "outputId": "8c48c75b-05b7-4271-dfe2-99528d2bc935"
      },
      "source": [
        "print(Myclass.number)"
      ],
      "execution_count": 5,
      "outputs": [
        {
          "output_type": "stream",
          "name": "stdout",
          "text": [
            "10\n"
          ]
        }
      ]
    },
    {
      "cell_type": "markdown",
      "metadata": {
        "id": "-aT1Lx3p2DTD"
      },
      "source": [
        "##Creating an object for the class\n",
        "Object for the class can be created as below:"
      ]
    },
    {
      "cell_type": "code",
      "metadata": {
        "id": "RNjAk98c2DDC"
      },
      "source": [
        "obj = Myclass()"
      ],
      "execution_count": 7,
      "outputs": []
    },
    {
      "cell_type": "code",
      "metadata": {
        "colab": {
          "base_uri": "https://localhost:8080/"
        },
        "id": "GtpvO0ki2SlJ",
        "outputId": "561371e8-6397-4da1-fd72-b34eeca05162"
      },
      "source": [
        "print(obj.mark1)"
      ],
      "execution_count": 9,
      "outputs": [
        {
          "output_type": "stream",
          "name": "stdout",
          "text": [
            "50\n"
          ]
        }
      ]
    },
    {
      "cell_type": "markdown",
      "metadata": {
        "id": "tZ9LwZRToKd6"
      },
      "source": [
        "##Modify Object Properties"
      ]
    },
    {
      "cell_type": "code",
      "metadata": {
        "id": "I47v2ppZ2ayR"
      },
      "source": [
        "obj.number=20"
      ],
      "execution_count": 10,
      "outputs": []
    },
    {
      "cell_type": "code",
      "metadata": {
        "colab": {
          "base_uri": "https://localhost:8080/"
        },
        "id": "p8B0N2OL2due",
        "outputId": "466f78ae-2925-48d8-af97-c6866565efb4"
      },
      "source": [
        "print(obj.number)"
      ],
      "execution_count": 11,
      "outputs": [
        {
          "output_type": "stream",
          "name": "stdout",
          "text": [
            "20\n"
          ]
        }
      ]
    },
    {
      "cell_type": "markdown",
      "source": [
        "#Constructors\n",
        "\n",
        "* Constructors are used to initialize the data members in the class.\n",
        "* Constructors are special functions\n",
        "* Constructors are called automatically upon object creation\n",
        "* There are two types of contructors: Default constructor and Parameterized constructor"
      ],
      "metadata": {
        "id": "wjOoW4uAB62B"
      }
    },
    {
      "cell_type": "markdown",
      "metadata": {
        "id": "Rt3UuI552pLg"
      },
      "source": [
        "##The __init__() Function\n",
        "<pre>\n",
        "The examples above are classes and objects in their simplest form, and are not really useful in real life applications.\n",
        "\n",
        "To understand the meaning of classes we have to understand the built-in __init__() function.\n",
        "\n",
        "All classes have a function called __init__(), which is always executed when the class is being initiated.\n",
        "\n",
        "Use the __init__() function to assign values to object properties, or other operations that are necessary to do when the object is being created:"
      ]
    },
    {
      "cell_type": "code",
      "metadata": {
        "id": "DnA9eFCY2rvl"
      },
      "source": [
        "class Person:\n",
        "  def __init__(self, name, age):\n",
        "    self.name = name\n",
        "    self.age = age\n",
        "\n"
      ],
      "execution_count": 13,
      "outputs": []
    },
    {
      "cell_type": "code",
      "metadata": {
        "id": "5jFWD0Fo3Ri_"
      },
      "source": [
        "p1 = Person(\"John\", 36)\n",
        "\n",
        "p2 = Person(\"Sam\",25)\n",
        "\n",
        "p3 = Person(\"Tom\",30)"
      ],
      "execution_count": 14,
      "outputs": []
    },
    {
      "cell_type": "code",
      "metadata": {
        "colab": {
          "base_uri": "https://localhost:8080/"
        },
        "id": "Dw0O6jFf3wGK",
        "outputId": "f9a98aa5-6666-485f-e3ab-d919b55a0b6f"
      },
      "source": [
        "print(p1.name,p1.age)"
      ],
      "execution_count": 15,
      "outputs": [
        {
          "output_type": "stream",
          "name": "stdout",
          "text": [
            "John 36\n"
          ]
        }
      ]
    },
    {
      "cell_type": "code",
      "metadata": {
        "colab": {
          "base_uri": "https://localhost:8080/"
        },
        "id": "ParlWV6833Mm",
        "outputId": "08243773-cf65-4d82-a861-73b46f2459b7"
      },
      "source": [
        "print(p2.name,p2.age)"
      ],
      "execution_count": 16,
      "outputs": [
        {
          "output_type": "stream",
          "name": "stdout",
          "text": [
            "Sam 25\n"
          ]
        }
      ]
    },
    {
      "cell_type": "code",
      "source": [
        "class Sample:\n",
        "  def __init__(self,regno,name):\n",
        "    self.REGNO = regno\n",
        "    self.NAME = name\n",
        "    print(\"Parameterized Constructor\")\n",
        "\n",
        "s = Sample(\"URK20CS1001\",\"Andrew\")\n",
        "print(s.REGNO)\n",
        "print(s.NAME)"
      ],
      "metadata": {
        "colab": {
          "base_uri": "https://localhost:8080/"
        },
        "id": "GbkiUJY0DzYe",
        "outputId": "60f0e6f5-6e90-4718-ee22-e31a3cc42a65"
      },
      "execution_count": 19,
      "outputs": [
        {
          "output_type": "stream",
          "name": "stdout",
          "text": [
            "Parameterized Constructor\n",
            "URK20CS1001\n",
            "Andrew\n"
          ]
        }
      ]
    },
    {
      "cell_type": "markdown",
      "metadata": {
        "id": "q_XdEBLen9vu"
      },
      "source": [
        "## Fuctions inside Class\n",
        "Objects can also contain methods. Methods in objects are functions that belong to the object."
      ]
    },
    {
      "cell_type": "code",
      "metadata": {
        "id": "lQAUR4I54UAR"
      },
      "source": [
        "class Person:\n",
        "  def __init__(self, name, age):\n",
        "    self.name = name\n",
        "    self.age = age\n",
        "  \n",
        "  def Display(self):\n",
        "    print(\"Name: \",self.name)\n",
        "    print(\"Age:\", self.age)"
      ],
      "execution_count": 20,
      "outputs": []
    },
    {
      "cell_type": "code",
      "metadata": {
        "id": "vYgFTGpS4qDD"
      },
      "source": [
        "p1 = Person(\"John\", 36)\n",
        "\n",
        "p2 = Person(\"Sam\",25)\n",
        "\n",
        "p3 = Person(\"Tom\",30)"
      ],
      "execution_count": 21,
      "outputs": []
    },
    {
      "cell_type": "code",
      "metadata": {
        "colab": {
          "base_uri": "https://localhost:8080/"
        },
        "id": "FrvNdslz4r0k",
        "outputId": "a84983a9-26f6-43b1-d6e8-daf66935543e"
      },
      "source": [
        "p3.Display()"
      ],
      "execution_count": 24,
      "outputs": [
        {
          "output_type": "stream",
          "name": "stdout",
          "text": [
            "Name:  Tom\n",
            "Age: 30\n"
          ]
        }
      ]
    },
    {
      "cell_type": "markdown",
      "metadata": {
        "id": "yzAfx5LiqSBz"
      },
      "source": [
        "##The self Parameter\n",
        "The self parameter is a reference to the current instance of the class, and is used to access variables that belongs to the class.\n",
        "\n",
        "It does not have to be named self , you can call it whatever you like, but it has to be the first parameter of any function in the class:"
      ]
    },
    {
      "cell_type": "code",
      "metadata": {
        "colab": {
          "base_uri": "https://localhost:8080/"
        },
        "id": "dcqxmdU7qX4Q",
        "outputId": "af345b47-308a-4d61-bf3c-b42256fc2c14"
      },
      "source": [
        "class Person:\n",
        "  def __init__(s, name, age):\n",
        "    s.name = name\n",
        "    s.age = age\n",
        "\n",
        "  def myfunc(abc):\n",
        "    print(\"Hello my name is \" + abc.name)\n",
        "\n",
        "p1 = Person(\"John\", 36)\n",
        "p1.myfunc()"
      ],
      "execution_count": null,
      "outputs": [
        {
          "output_type": "stream",
          "text": [
            "Hello my name is John\n"
          ],
          "name": "stdout"
        }
      ]
    },
    {
      "cell_type": "markdown",
      "metadata": {
        "id": "nXXg9hnlqthr"
      },
      "source": [
        "##Delete Object Properties\n",
        "You can delete properties on objects by using the del keyword:"
      ]
    },
    {
      "cell_type": "code",
      "metadata": {
        "id": "rFMf_eLxqwNU"
      },
      "source": [
        "del p1.age"
      ],
      "execution_count": null,
      "outputs": []
    },
    {
      "cell_type": "code",
      "metadata": {
        "colab": {
          "base_uri": "https://localhost:8080/",
          "height": 164
        },
        "id": "uC7RbkCzq2-J",
        "outputId": "85fb976d-8c69-4cc3-cf76-1cb9e4cb2490"
      },
      "source": [
        "print(p1.age)"
      ],
      "execution_count": null,
      "outputs": [
        {
          "output_type": "error",
          "ename": "AttributeError",
          "evalue": "ignored",
          "traceback": [
            "\u001b[0;31m---------------------------------------------------------------------------\u001b[0m",
            "\u001b[0;31mAttributeError\u001b[0m                            Traceback (most recent call last)",
            "\u001b[0;32m<ipython-input-27-9506c9e80e91>\u001b[0m in \u001b[0;36m<module>\u001b[0;34m()\u001b[0m\n\u001b[0;32m----> 1\u001b[0;31m \u001b[0mprint\u001b[0m\u001b[0;34m(\u001b[0m\u001b[0mp1\u001b[0m\u001b[0;34m.\u001b[0m\u001b[0mage\u001b[0m\u001b[0;34m)\u001b[0m\u001b[0;34m\u001b[0m\u001b[0;34m\u001b[0m\u001b[0m\n\u001b[0m",
            "\u001b[0;31mAttributeError\u001b[0m: 'Person' object has no attribute 'age'"
          ]
        }
      ]
    },
    {
      "cell_type": "markdown",
      "metadata": {
        "id": "bQ1cAu0Yq1JI"
      },
      "source": [
        "##Delete Objects\n",
        "You can delete objects by using the del keyword:"
      ]
    },
    {
      "cell_type": "code",
      "metadata": {
        "id": "pt-GRlEPrdpP"
      },
      "source": [
        "del p1"
      ],
      "execution_count": null,
      "outputs": []
    },
    {
      "cell_type": "code",
      "metadata": {
        "id": "hnHCSBmJrgiO",
        "outputId": "21fca959-3dcd-45b4-d581-07c20b89f529",
        "colab": {
          "base_uri": "https://localhost:8080/",
          "height": 164
        }
      },
      "source": [
        "print(p1.name)"
      ],
      "execution_count": null,
      "outputs": [
        {
          "output_type": "error",
          "ename": "NameError",
          "evalue": "ignored",
          "traceback": [
            "\u001b[0;31m---------------------------------------------------------------------------\u001b[0m",
            "\u001b[0;31mNameError\u001b[0m                                 Traceback (most recent call last)",
            "\u001b[0;32m<ipython-input-29-f5f45b9f018c>\u001b[0m in \u001b[0;36m<module>\u001b[0;34m()\u001b[0m\n\u001b[0;32m----> 1\u001b[0;31m \u001b[0mprint\u001b[0m\u001b[0;34m(\u001b[0m\u001b[0mp1\u001b[0m\u001b[0;34m.\u001b[0m\u001b[0mname\u001b[0m\u001b[0;34m)\u001b[0m\u001b[0;34m\u001b[0m\u001b[0;34m\u001b[0m\u001b[0m\n\u001b[0m",
            "\u001b[0;31mNameError\u001b[0m: name 'p1' is not defined"
          ]
        }
      ]
    }
  ]
}