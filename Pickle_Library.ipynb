{
  "nbformat": 4,
  "nbformat_minor": 0,
  "metadata": {
    "colab": {
      "name": "Pickle Library.ipynb",
      "provenance": [],
      "authorship_tag": "ABX9TyMQDmLdZX35JZQlIWTknewW",
      "include_colab_link": true
    },
    "kernelspec": {
      "name": "python3",
      "display_name": "Python 3"
    },
    "language_info": {
      "name": "python"
    }
  },
  "cells": [
    {
      "cell_type": "markdown",
      "metadata": {
        "id": "view-in-github",
        "colab_type": "text"
      },
      "source": [
        "<a href=\"https://colab.research.google.com/github/onesimuj/Python-Programming/blob/main/Pickle_Library.ipynb\" target=\"_parent\"><img src=\"https://colab.research.google.com/assets/colab-badge.svg\" alt=\"Open In Colab\"/></a>"
      ]
    },
    {
      "cell_type": "markdown",
      "metadata": {
        "id": "yLFlEqP64eR3"
      },
      "source": [
        "#<b> Pickle in Python"
      ]
    },
    {
      "cell_type": "markdown",
      "metadata": {
        "id": "YEIwFuj04tbj"
      },
      "source": [
        "## What is a Pickle?\n",
        "* Python pickle module is used for serializing and de-serializing python object structures. \n",
        "* Serialization refers to the process of converting an object in memory to a byte stream that can be stored on disk or sent over a network.\n",
        "* The process to converts any kind of python objects (list, dict, etc.) into byte streams (0s and 1s) is called pickling or serialization or flattening or marshalling. \n",
        "* We can converts the byte stream (generated through pickling) back into python objects by a process called as unpickling."
      ]
    },
    {
      "cell_type": "markdown",
      "metadata": {
        "id": "wdQ57nUZ5K38"
      },
      "source": [
        "## What Can You Do With pickle?\n",
        "* In real world sceanario, the use pickling and unpickling are widespread as they allow us to easily transfer data from one server/system to another and then store it in a file or database.\n",
        "* Pickling is useful for applications where you need some degree of persistency in your data. \n",
        "* Your program's state data can be saved to disk, so you can continue working on it later on. \n",
        "* It can also be used to send data over a Transmission Control Protocol (TCP) or socket connection, or to store python objects in a database. \n",
        "* Pickle is very useful for when you're working with machine learning algorithms, where you want to save them to be able to make new predictions at a later time, without having to rewrite everything or train the model all over again."
      ]
    },
    {
      "cell_type": "markdown",
      "metadata": {
        "id": "28OmpO9I5lR1"
      },
      "source": [
        "## When Not To Use pickle\n",
        "* If you want to use data across different programming languages, pickle is not recommended. \n",
        "* Its protocol is specific to Python, thus, cross-language compatibility is not guaranteed. \n",
        "* The same holds for different versions of Python itself. Unpickling a file that was pickled in a different version of Python may not always work properly, so you have to make sure that you're using the same version and perform an update if necessary. \n",
        "* You should also try not to unpickle data from an untrusted source. Malicious code inside the file might be executed upon unpickling."
      ]
    },
    {
      "cell_type": "markdown",
      "metadata": {
        "id": "M8OIEOfj6NHp"
      },
      "source": [
        "## Pickling files\n",
        "\n",
        "Only after importing pickle module we can do pickling and unpickling. Importing pickle can be done using the following command"
      ]
    },
    {
      "cell_type": "code",
      "metadata": {
        "id": "D_AQjrs-4bCP"
      },
      "source": [
        "import pickle"
      ],
      "execution_count": null,
      "outputs": []
    },
    {
      "cell_type": "markdown",
      "metadata": {
        "id": "SnToB7BD6fzx"
      },
      "source": [
        "## Pickle a dictionary"
      ]
    },
    {
      "cell_type": "code",
      "metadata": {
        "id": "hKdTUfHQ6kAC"
      },
      "source": [
        "dogs_dict = { 'Ozzy': 3, 'Filou': 8, 'Luna': 5, 'Skippy': 10, 'Barco': 12, 'Balou': 9, 'Laika': 16 }\n"
      ],
      "execution_count": null,
      "outputs": []
    },
    {
      "cell_type": "markdown",
      "metadata": {
        "id": "2jVapBCp6xtF"
      },
      "source": [
        "<pre> To open the file for writing, simply use the open() function. \n",
        "The first argument should be the name of your file. \n",
        "The second argument is 'wb'. \n",
        "The w means that you'll be writing to the file, and b refers to binary mode. \n",
        "This means that the data will be written in the form of byte objects. \n",
        "If you forget the b, a TypeError: must be str, not bytes will be returned. \n",
        "You may sometimes come across a slightly different notation; w+b, but don't worry, it provides the same functionality."
      ]
    },
    {
      "cell_type": "code",
      "metadata": {
        "id": "w2SAcuMS7C4H"
      },
      "source": [
        "filename = 'dogs'\n",
        "outfile = open(filename,'wb')"
      ],
      "execution_count": null,
      "outputs": []
    },
    {
      "cell_type": "markdown",
      "metadata": {
        "id": "x-rLlHSs7R-Z"
      },
      "source": [
        "\n",
        "Once the file is opened for writing, you can use pickle.dump(), which takes two arguments: the object you want to pickle and the file to which the object has to be saved. \n",
        "In this case, the former will be dogs_dict, while the latter will be outfile.\n",
        "\n",
        "Don't forget to close the file with close()!"
      ]
    },
    {
      "cell_type": "code",
      "metadata": {
        "id": "7aNB09rn7RpB"
      },
      "source": [
        "pickle.dump(dogs_dict,outfile)\n",
        "outfile.close()"
      ],
      "execution_count": null,
      "outputs": []
    },
    {
      "cell_type": "markdown",
      "metadata": {
        "id": "lnsuaIx37gkx"
      },
      "source": [
        "## Unpickling files"
      ]
    },
    {
      "cell_type": "markdown",
      "metadata": {
        "id": "RPIRlvQu7eU4"
      },
      "source": [
        "The process of loading a pickled file back into a Python program is similar to the one you saw previously: use the open() function again, but this time with 'rb' as second argument (instead of wb). The r stands for read mode and the b stands for binary mode. You'll be reading a binary file. Assign this to infile. Next, use pickle.load(), with infile as argument, and assign it to new_dict. The contents of the file are now assigned to this new variable. Again, you'll need to close the file at the end."
      ]
    },
    {
      "cell_type": "code",
      "metadata": {
        "id": "kOK-YrLI7p8E"
      },
      "source": [
        "infile = open(filename,'rb')\n",
        "new_dict = pickle.load(infile)\n",
        "infile.close()"
      ],
      "execution_count": null,
      "outputs": []
    },
    {
      "cell_type": "code",
      "metadata": {
        "colab": {
          "base_uri": "https://localhost:8080/"
        },
        "id": "ODf2G9RQ7tbG",
        "outputId": "54fd4826-bcc6-427c-aa09-ff268db240b8"
      },
      "source": [
        "print(new_dict)\n",
        "print(new_dict==dogs_dict)\n",
        "print(type(new_dict))"
      ],
      "execution_count": null,
      "outputs": [
        {
          "output_type": "stream",
          "text": [
            "{'Ozzy': 3, 'Filou': 8, 'Luna': 5, 'Skippy': 10, 'Barco': 12, 'Balou': 9, 'Laika': 16}\n",
            "True\n",
            "<class 'dict'>\n"
          ],
          "name": "stdout"
        }
      ]
    },
    {
      "cell_type": "markdown",
      "metadata": {
        "id": "iQgUWt0CzZ1M"
      },
      "source": [
        "## Example with Class"
      ]
    },
    {
      "cell_type": "code",
      "metadata": {
        "colab": {
          "base_uri": "https://localhost:8080/"
        },
        "id": "VTVDseYQzcOj",
        "outputId": "bb5c4349-021d-4f10-92e2-368153095c1d"
      },
      "source": [
        "import pickle\n",
        "\n",
        "class example_class:\n",
        "    a_number = 35\n",
        "    a_string = \"hey\"\n",
        "    a_list = [1, 2, 3]\n",
        "    a_dict = {\"first\": \"a\", \"second\": 2, \"third\": [1, 2, 3]}\n",
        "    a_tuple = (22, 23)\n",
        "\n",
        "my_object = example_class()\n",
        "\n",
        "my_pickled_object = pickle.dumps(my_object)  # Pickling the object\n",
        "print(f\"This is my pickled object:\\n{my_pickled_object}\\n\")\n",
        "\n",
        "my_object.a_dict = None\n",
        "\n",
        "my_unpickled_object = pickle.loads(my_pickled_object)  # Unpickling the object\n",
        "print(\n",
        "    f\"This is a_dict of the unpickled object:\\n{my_unpickled_object.a_list}\\n\")"
      ],
      "execution_count": 2,
      "outputs": [
        {
          "output_type": "stream",
          "text": [
            "This is my pickled object:\n",
            "b'\\x80\\x03c__main__\\nexample_class\\nq\\x00)\\x81q\\x01.'\n",
            "\n",
            "This is a_dict of the unpickled object:\n",
            "[1, 2, 3]\n",
            "\n"
          ],
          "name": "stdout"
        }
      ]
    }
  ]
}