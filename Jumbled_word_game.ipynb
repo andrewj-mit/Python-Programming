{
  "nbformat": 4,
  "nbformat_minor": 0,
  "metadata": {
    "colab": {
      "name": "Jumbled word game.ipynb",
      "provenance": [],
      "authorship_tag": "ABX9TyOxnqcPxnsTFK58dmogzaYe",
      "include_colab_link": true
    },
    "kernelspec": {
      "name": "python3",
      "display_name": "Python 3"
    },
    "language_info": {
      "name": "python"
    }
  },
  "cells": [
    {
      "cell_type": "markdown",
      "metadata": {
        "id": "view-in-github",
        "colab_type": "text"
      },
      "source": [
        "<a href=\"https://colab.research.google.com/github/onesimuj/Python-Programming/blob/main/Jumbled_word_game.ipynb\" target=\"_parent\"><img src=\"https://colab.research.google.com/assets/colab-badge.svg\" alt=\"Open In Colab\"/></a>"
      ]
    },
    {
      "cell_type": "markdown",
      "metadata": {
        "id": "jbc5GV5fabSG"
      },
      "source": [
        "#<b>Python program fo Jumbled word game"
      ]
    },
    {
      "cell_type": "markdown",
      "metadata": {
        "id": "dai7jZcDasAt"
      },
      "source": [
        "<b>Built-in Functions Required</b>\n",
        "<pre>\n",
        "choice() method randomly choose any word from the list.\n",
        "sample() method shuffling the characters of the word."
      ]
    },
    {
      "cell_type": "markdown",
      "metadata": {
        "id": "9BkRqpMoa28y"
      },
      "source": [
        "<b>User defined Functions</b>\n",
        "<pre>\n",
        "choose() : Choosing random word from the list .\n",
        "jumble() : Shuffling the characters of the choosen word. we have to pass a choosen word as an argument.\n",
        "thank() : Showing the final scores of both players. Pass a player1 name, player2 name and score of player1, player2 as an argument.\n",
        "check_win() : Declaring the winner. Pass a player1 name, player2 name, and score of player1 and player2 as argument.\n",
        "play() : Starting the game."
      ]
    },
    {
      "cell_type": "code",
      "metadata": {
        "colab": {
          "base_uri": "https://localhost:8080/"
        },
        "id": "-bEetHnra_Ls",
        "outputId": "6f30ebeb-0c94-4638-e5bc-94603a6a9dab"
      },
      "source": [
        "# Python program for jumbled words game.\n",
        "\n",
        "# import random module\n",
        "import random\n",
        "\n",
        "\n",
        "# function for choosing random word.\n",
        "def choose():\n",
        "\t# list of word\n",
        "\twords = ['rainbow', 'computer', 'science', 'programming',\n",
        "\t\t\t'mathematics', 'player', 'condition', 'reverse',\n",
        "\t\t\t'water', 'board', 'geeks']\n",
        "\n",
        "\t# choice() method randomly choose\n",
        "\t# any word from the list.\n",
        "\tpick = random.choice(words)\n",
        "\n",
        "\treturn pick\n",
        "\n",
        "\n",
        "# Function for shuffling the\n",
        "# characters of the chosen word.\n",
        "def jumble(word):\n",
        "\t# sample() method shuffling the characters of the word\n",
        "\trandom_word = random.sample(word, len(word))\n",
        "\n",
        "\t# join() method join the elements\n",
        "\t# of the iterator(e.g. list) with particular character .\n",
        "\tjumbled = ''.join(random_word)\n",
        "\treturn jumbled\n",
        "\n",
        "\n",
        "# Function for showing final score.\n",
        "def thank(p1n, p2n, p1, p2):\n",
        "\tprint(p1n, 'Your score is :', p1)\n",
        "\tprint(p2n, 'Your score is :', p2)\n",
        "\n",
        "\t# check_win() function calling\n",
        "\tcheck_win(p1n, p2n, p1, p2)\n",
        "\n",
        "\tprint('Thanks for playing...')\n",
        "\n",
        "\n",
        "# Function for declaring winner\n",
        "0\n",
        "\n",
        "# Function for playing the game.\n",
        "def play():\n",
        "\t# enter player1 and player2 name\n",
        "\tp1name = input(\"player 1, Please enter your name :\")\n",
        "\tp2name = input(\"Player 2 , Please enter your name: \")\n",
        "\n",
        "\t# variable for counting score.\n",
        "\tpp1 = 0\n",
        "\tpp2 = 0\n",
        "\n",
        "\t# variable for counting turn\n",
        "\tturn = 0\n",
        "\n",
        "\t# keep looping\n",
        "\twhile True:\n",
        "\n",
        "\t\t# choose() function calling\n",
        "\t\tpicked_word = choose()\n",
        "\n",
        "\t\t# jumble() fucntion calling\n",
        "\t\tqn = jumble(picked_word)\n",
        "\t\tprint(\"jumbled word is :\", qn)\n",
        "\n",
        "\t\t# checking turn is odd or even\n",
        "\t\tif turn % 2 == 0:\n",
        "\n",
        "\t\t\t# if turn no. is even\n",
        "\t\t\t# player1 turn\n",
        "\t\t\tprint(p1name, 'Your Turn.')\n",
        "\n",
        "\t\t\tans = input(\"what is in your mind? \")\n",
        "\n",
        "\t\t\t# checking ans is equal to picked_word or not\n",
        "\t\t\tif ans == picked_word:\n",
        "\n",
        "\t\t\t\t# incremented by 1\n",
        "\t\t\t\tpp1 += 1\n",
        "\n",
        "\t\t\t\tprint('Your score is :', pp1)\n",
        "\t\t\t\tturn += 1\n",
        "\n",
        "\t\t\telse:\n",
        "\t\t\t\tprint(\"Better luck next time ..\")\n",
        "\n",
        "\t\t\t\t# player 2 turn\n",
        "\t\t\t\tprint(p2name, 'Your turn.')\n",
        "\n",
        "\t\t\t\tans = input('what is in your mind? ')\n",
        "\n",
        "\t\t\t\tif ans == picked_word:\n",
        "\t\t\t\t\tpp2 += 1\n",
        "\t\t\t\t\tprint(\"Your Score is :\", pp2)\n",
        "\n",
        "\t\t\t\telse:\n",
        "\t\t\t\t\tprint(\"Better luck next time...correct word is :\", picked_word)\n",
        "\n",
        "\t\t\t\tc = int(input(\"press 1 to continue and 0 to quit :\"))\n",
        "\n",
        "\t\t\t\t# checking the c is equal to 0 or not\n",
        "\t\t\t\t# if c is equal to 0 then break out\n",
        "\t\t\t\t# of the while loop o/w keep looping.\n",
        "\t\t\t\tif c == 0:\n",
        "\t\t\t\t\t# thank() function calling\n",
        "\t\t\t\t\tthank(p1name, p2name, pp1, pp2)\n",
        "\t\t\t\t\tbreak\n",
        "\n",
        "\t\telse:\n",
        "\n",
        "\t\t\t# if turn no. is odd\n",
        "\t\t\t# player2 turn\n",
        "\t\t\tprint(p2name, 'Your turn.')\n",
        "\t\t\tans = input('what is in your mind? ')\n",
        "\n",
        "\t\t\tif ans == picked_word:\n",
        "\t\t\t\tpp2 += 1\n",
        "\t\t\t\tprint(\"Your Score is :\", pp2)\n",
        "\t\t\t\tturn += 1\n",
        "\n",
        "\t\t\telse:\n",
        "\t\t\t\tprint(\"Better luck next time.. :\")\n",
        "\t\t\t\tprint(p1name, 'Your turn.')\n",
        "\t\t\t\tans = input('what is in your mind? ')\n",
        "\n",
        "\t\t\t\tif ans == picked_word:\n",
        "\t\t\t\t\tpp1 += 1\n",
        "\t\t\t\t\tprint(\"Your Score is :\", pp1)\n",
        "\n",
        "\t\t\t\telse:\n",
        "\t\t\t\t\tprint(\"Better luck next time...correct word is :\", picked_word)\n",
        "\n",
        "\t\t\t\t\tc = int(input(\"press 1 to continue and 0 to quit :\"))\n",
        "\n",
        "\t\t\t\t\tif c == 0:\n",
        "\t\t\t\t\t\t# thank() function calling\n",
        "\t\t\t\t\t\tthank(p1name, p2name, pp1, pp2)\n",
        "\t\t\t\t\t\tbreak\n",
        "\n",
        "\t\t\tc = int(input(\"press 1 to continue and 0 to quit :\"))\n",
        "\t\t\tif c == 0:\n",
        "\t\t\t\t# thank() function calling\n",
        "\t\t\t\tthank(p1name, p2name, pp1, pp2)\n",
        "\t\t\t\tbreak\n",
        "\n",
        "\n",
        "# Driver code\n",
        "if __name__ == '__main__':\n",
        "\t\n",
        "\t# play() function calling\n",
        "\tplay()\n"
      ],
      "execution_count": 2,
      "outputs": [
        {
          "output_type": "stream",
          "text": [
            "player 1, Please enter your name :Alex\n",
            "Player 2 , Please enter your name: Elisha\n",
            "jumbled word is : ondnicoti\n",
            "Alex Your Turn.\n",
            "what is in your mind? condition\n",
            "Your score is : 1\n",
            "jumbled word is : rtpoucme\n",
            "Elisha Your turn.\n",
            "what is in your mind? computer\n",
            "Your Score is : 1\n",
            "press 1 to continue and 0 to quit :0\n",
            "Alex Your score is : 1\n",
            "Elisha Your score is : 1\n",
            "Draw..Well Played guys..\n",
            "Thanks for playing...\n"
          ],
          "name": "stdout"
        }
      ]
    }
  ]
}