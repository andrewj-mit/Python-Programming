{
  "nbformat": 4,
  "nbformat_minor": 0,
  "metadata": {
    "colab": {
      "name": "password generator3.ipynb",
      "provenance": [],
      "authorship_tag": "ABX9TyPP1m4u8SlPlhU6BIkPqMLY",
      "include_colab_link": true
    },
    "kernelspec": {
      "name": "python3",
      "display_name": "Python 3"
    },
    "language_info": {
      "name": "python"
    }
  },
  "cells": [
    {
      "cell_type": "markdown",
      "metadata": {
        "id": "view-in-github",
        "colab_type": "text"
      },
      "source": [
        "<a href=\"https://colab.research.google.com/github/onesimuj/Python-Programming/blob/main/password_generator3.ipynb\" target=\"_parent\"><img src=\"https://colab.research.google.com/assets/colab-badge.svg\" alt=\"Open In Colab\"/></a>"
      ]
    },
    {
      "cell_type": "code",
      "execution_count": null,
      "metadata": {
        "colab": {
          "base_uri": "https://localhost:8080/"
        },
        "id": "kvRna3kc0g_W",
        "outputId": "27f22ee3-c1a9-4b00-a8e2-a3aa53f68999"
      },
      "outputs": [
        {
          "output_type": "stream",
          "name": "stdout",
          "text": [
            "Enter password length: 8\n",
            "Enter alphabets count in password: 5\n",
            "Enter digits count in password: 2\n",
            "Enter special characters count in password: 1\n",
            "!9ZXi1Ru\n"
          ]
        }
      ],
      "source": [
        "import string\n",
        "import random\n",
        "\n",
        "\n",
        "## characters to generate password from\n",
        "alphabets = list(string.ascii_letters)\n",
        "digits = list(string.digits)\n",
        "special_characters = list(\"!@#$%^&*()\")\n",
        "characters = list(string.ascii_letters + string.digits + \"!@#$%^&*()\")\n",
        "\n",
        "def generate_random_password():\n",
        "\t## length of password from the user\n",
        "\tlength = int(input(\"Enter password length: \"))\n",
        "\n",
        "\t## number of character types\n",
        "\talphabets_count = int(input(\"Enter alphabets count in password: \"))\n",
        "\tdigits_count = int(input(\"Enter digits count in password: \"))\n",
        "\tspecial_characters_count = int(input(\"Enter special characters count in password: \"))\n",
        "\n",
        "\tcharacters_count = alphabets_count + digits_count + special_characters_count\n",
        "\n",
        "\t## check the total length with characters sum count\n",
        "\t## print not valid if the sum is greater than length\n",
        "\tif characters_count > length:\n",
        "\t\tprint(\"Characters total count is greater than the password length\")\n",
        "\t\treturn\n",
        "\n",
        "\n",
        "\t## initializing the password\n",
        "\tpassword = []\n",
        "\t\n",
        "\t## picking random alphabets\n",
        "\tfor i in range(alphabets_count):\n",
        "\t\tpassword.append(random.choice(alphabets))\n",
        "\n",
        "\n",
        "\t## picking random digits\n",
        "\tfor i in range(digits_count):\n",
        "\t\tpassword.append(random.choice(digits))\n",
        "\n",
        "\n",
        "\t## picking random alphabets\n",
        "\tfor i in range(special_characters_count):\n",
        "\t\tpassword.append(random.choice(special_characters))\n",
        "\n",
        "\n",
        "\t## if the total characters count is less than the password length\n",
        "\t## add random characters to make it equal to the length\n",
        "\tif characters_count < length:\n",
        "\t\trandom.shuffle(characters)\n",
        "\t\tfor i in range(length - characters_count):\n",
        "\t\t\tpassword.append(random.choice(characters))\n",
        "\n",
        "\n",
        "\t## shuffling the resultant password\n",
        "\trandom.shuffle(password)\n",
        "\n",
        "\t## converting the list to string\n",
        "\t## printing the list\n",
        "\tprint(\"\".join(password))\n",
        "\n",
        "\n",
        "\n",
        "## invoking the function\n",
        "generate_random_password()"
      ]
    }
  ]
}