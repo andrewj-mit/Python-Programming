{
  "nbformat": 4,
  "nbformat_minor": 0,
  "metadata": {
    "colab": {
      "name": "dictionaries in Python.ipynb",
      "provenance": [],
      "authorship_tag": "ABX9TyOwhIbHL389IULlaHh2nXNa",
      "include_colab_link": true
    },
    "kernelspec": {
      "name": "python3",
      "display_name": "Python 3"
    }
  },
  "cells": [
    {
      "cell_type": "markdown",
      "metadata": {
        "id": "view-in-github",
        "colab_type": "text"
      },
      "source": [
        "<a href=\"https://colab.research.google.com/github/onesimuj/Python-Programming/blob/main/dictionaries_in_Python.ipynb\" target=\"_parent\"><img src=\"https://colab.research.google.com/assets/colab-badge.svg\" alt=\"Open In Colab\"/></a>"
      ]
    },
    {
      "cell_type": "markdown",
      "metadata": {
        "id": "RYHCmjIs88V5"
      },
      "source": [
        "#Python Dictionaries\n",
        "\n",
        "* Python dictionary is an unordered collection of items. Each item of a dictionary has a *key/value* pair.\n",
        "* Dictionaries are optimized to retrieve values when the key is known."
      ]
    },
    {
      "cell_type": "markdown",
      "metadata": {
        "id": "fYpCMHmb-JGG"
      },
      "source": [
        "##Creating Python Dictionary\n",
        "* An item has a key and a corresponding value that is expressed as a pair *(key: value)*.\n",
        "* While the values can be of any data type and can repeat, keys must be of immutable type (string, number or tuple with immutable elements) and must be unique."
      ]
    },
    {
      "cell_type": "code",
      "metadata": {
        "colab": {
          "base_uri": "https://localhost:8080/"
        },
        "id": "40eA7mPR98kk",
        "outputId": "3264271a-d69a-4739-87ba-343e8cf08c7e"
      },
      "source": [
        "# empty dictionary\n",
        "my_dict = {}\n",
        "\n",
        "print(type(my_dict))"
      ],
      "execution_count": 2,
      "outputs": [
        {
          "output_type": "stream",
          "text": [
            "<class 'dict'>\n"
          ],
          "name": "stdout"
        }
      ]
    },
    {
      "cell_type": "code",
      "metadata": {
        "colab": {
          "base_uri": "https://localhost:8080/"
        },
        "id": "AZIZ1C9I_Vkk",
        "outputId": "0532012d-2de6-4e17-eff4-88a6a8ca39e5"
      },
      "source": [
        "# dictionary with integer keys\n",
        "my_dict = {1: 'apple', 2: 'ball'}\n",
        "\n",
        "print(my_dict)"
      ],
      "execution_count": 3,
      "outputs": [
        {
          "output_type": "stream",
          "text": [
            "{1: 'apple', 2: 'ball'}\n"
          ],
          "name": "stdout"
        }
      ]
    },
    {
      "cell_type": "code",
      "metadata": {
        "colab": {
          "base_uri": "https://localhost:8080/"
        },
        "id": "BeaNpyGq_bc6",
        "outputId": "aa748c4c-af1a-410d-d09c-7f6e26167865"
      },
      "source": [
        "# dictionary with mixed keys\n",
        "my_dict = {'Name': 'Zara', 'Age': 7, 'Class': 'First'}\n",
        "\n",
        "print(my_dict)"
      ],
      "execution_count": 5,
      "outputs": [
        {
          "output_type": "stream",
          "text": [
            "{'Name': 'Zara', 'Age': 7, 'Class': 'First'}\n"
          ],
          "name": "stdout"
        }
      ]
    },
    {
      "cell_type": "code",
      "metadata": {
        "colab": {
          "base_uri": "https://localhost:8080/"
        },
        "id": "hvEnbs5V_SM0",
        "outputId": "08e198de-32b3-40a9-a7e0-6046c439d09b"
      },
      "source": [
        "thisdict = {\n",
        "  \"brand\": \"Ford\",\n",
        "  \"model\": \"Mustang\",\n",
        "  \"year\": 1964\n",
        "}\n",
        "\n",
        "print(thisdict)"
      ],
      "execution_count": 6,
      "outputs": [
        {
          "output_type": "stream",
          "text": [
            "{'brand': 'Ford', 'model': 'Mustang', 'year': 1964}\n"
          ],
          "name": "stdout"
        }
      ]
    },
    {
      "cell_type": "markdown",
      "metadata": {
        "id": "vaRI3vus_1jr"
      },
      "source": [
        "##Accessing Elements from Dictionary\n",
        "* While indexing is used with other data types to access values, a dictionary uses keys. Keys can be used either inside square brackets [] or with the get() method.\n",
        "* If we use the square brackets [], KeyError is raised in case a key is not found in the dictionary. On the other hand, the get() method returns None if the key is not found."
      ]
    },
    {
      "cell_type": "code",
      "metadata": {
        "colab": {
          "base_uri": "https://localhost:8080/"
        },
        "id": "a6ioqawv_v7h",
        "outputId": "bb50765a-6ddc-4d8f-8a34-1277c24c40d0"
      },
      "source": [
        "# get vs [] for retrieving elements\n",
        "my_dict = {'name': 'Jack', 'age': 26}\n",
        "\n",
        "# Output: Jack\n",
        "print(my_dict['name'])"
      ],
      "execution_count": 8,
      "outputs": [
        {
          "output_type": "stream",
          "text": [
            "Jack\n"
          ],
          "name": "stdout"
        }
      ]
    },
    {
      "cell_type": "code",
      "metadata": {
        "colab": {
          "base_uri": "https://localhost:8080/"
        },
        "id": "VzqHZodkAOeL",
        "outputId": "dd3e8e4d-fefc-413e-f89a-cba4632b5efa"
      },
      "source": [
        "\n",
        "# Trying to access keys which doesn't exist throws error\n",
        "# Output None\n",
        "print(my_dict.get('address'))"
      ],
      "execution_count": 9,
      "outputs": [
        {
          "output_type": "stream",
          "text": [
            "26\n",
            "None\n"
          ],
          "name": "stdout"
        }
      ]
    },
    {
      "cell_type": "code",
      "metadata": {
        "id": "H2Bdfn1CAQmg"
      },
      "source": [
        "# KeyError\n",
        "print(my_dict['address'])"
      ],
      "execution_count": null,
      "outputs": []
    },
    {
      "cell_type": "markdown",
      "metadata": {
        "id": "zENnrRi8CI7o"
      },
      "source": [
        "##Changing and Adding Dictionary elements\n",
        "* Dictionaries are mutable. We can add new items or change the value of existing items using an assignment operator.\n",
        "* If the key is already present, then the existing value gets updated. In case the key is not present, a new **(key: value)** pair is added to the dictionary."
      ]
    },
    {
      "cell_type": "code",
      "metadata": {
        "colab": {
          "base_uri": "https://localhost:8080/"
        },
        "id": "1FehfC6DCcTv",
        "outputId": "046238d7-6c41-4c5f-e99f-8529075b28f2"
      },
      "source": [
        "# Changing and adding Dictionary Elements\n",
        "my_dict = {'name': 'Jack', 'age': 26}\n",
        "\n",
        "# update value\n",
        "my_dict['age'] = 27\n",
        "\n",
        "#Output: {'age': 27, 'name': 'Jack'}\n",
        "print(my_dict)"
      ],
      "execution_count": 11,
      "outputs": [
        {
          "output_type": "stream",
          "text": [
            "{'name': 'Jack', 'age': 27}\n"
          ],
          "name": "stdout"
        }
      ]
    },
    {
      "cell_type": "code",
      "metadata": {
        "colab": {
          "base_uri": "https://localhost:8080/"
        },
        "id": "8qco_ICMCrK6",
        "outputId": "b280ce0e-d01e-4a26-fa40-b3ad8ba155d5"
      },
      "source": [
        "# add item\n",
        "my_dict['address'] = 'Downtown'\n",
        "\n",
        "# Output: {'address': 'Downtown', 'age': 27, 'name': 'Jack'}\n",
        "print(my_dict)"
      ],
      "execution_count": 12,
      "outputs": [
        {
          "output_type": "stream",
          "text": [
            "{'name': 'Jack', 'age': 27, 'address': 'Downtown'}\n"
          ],
          "name": "stdout"
        }
      ]
    },
    {
      "cell_type": "markdown",
      "metadata": {
        "id": "6w_bJ5MiDE-S"
      },
      "source": [
        "##Removing elements from Dictionary\n",
        "* We can remove a particular item in a dictionary by using the pop() method. This method removes an item with the provided key and returns the value.\n",
        "\n",
        "* The popitem() method can be used to remove and return an arbitrary (key, value) item pair from the dictionary. All the items can be removed at once, using the clear() method.\n",
        "\n",
        "* We can also use the del keyword to remove individual items or the entire dictionary itself."
      ]
    },
    {
      "cell_type": "code",
      "metadata": {
        "colab": {
          "base_uri": "https://localhost:8080/"
        },
        "id": "ujFIWdDqDa-O",
        "outputId": "15a2349b-0813-4aac-8cd4-3738694de74b"
      },
      "source": [
        "# Removing elements from a dictionary\n",
        "\n",
        "# create a dictionary\n",
        "squares = {1: 1, 2: 4, 3: 9, 4: 16, 5: 25}\n",
        "\n",
        "# remove a particular item, returns its value\n",
        "# Output: 16\n",
        "print(squares.pop(4))\n"
      ],
      "execution_count": 13,
      "outputs": [
        {
          "output_type": "stream",
          "text": [
            "16\n"
          ],
          "name": "stdout"
        }
      ]
    },
    {
      "cell_type": "code",
      "metadata": {
        "colab": {
          "base_uri": "https://localhost:8080/"
        },
        "id": "PUSrE9lADiHd",
        "outputId": "935eb792-f0cf-4158-93e5-398c2d9c337c"
      },
      "source": [
        "# Output: {1: 1, 2: 4, 3: 9, 5: 25}\n",
        "print(squares)"
      ],
      "execution_count": 14,
      "outputs": [
        {
          "output_type": "stream",
          "text": [
            "{1: 1, 2: 4, 3: 9, 5: 25}\n"
          ],
          "name": "stdout"
        }
      ]
    },
    {
      "cell_type": "code",
      "metadata": {
        "colab": {
          "base_uri": "https://localhost:8080/"
        },
        "id": "mA5qsUlvDm9T",
        "outputId": "6a15180a-4125-4f1d-9945-406b8e63177a"
      },
      "source": [
        "# remove an arbitrary item, return (key,value)\n",
        "# Output: (5, 25)\n",
        "print(squares.popitem())\n"
      ],
      "execution_count": 15,
      "outputs": [
        {
          "output_type": "stream",
          "text": [
            "(5, 25)\n"
          ],
          "name": "stdout"
        }
      ]
    },
    {
      "cell_type": "code",
      "metadata": {
        "colab": {
          "base_uri": "https://localhost:8080/"
        },
        "id": "idZXivg-Duof",
        "outputId": "2cd2eeaf-2a93-472e-e369-8ae060786df0"
      },
      "source": [
        "# Output: {1: 1, 2: 4, 3: 9}\n",
        "print(squares)"
      ],
      "execution_count": 16,
      "outputs": [
        {
          "output_type": "stream",
          "text": [
            "{1: 1, 2: 4, 3: 9}\n"
          ],
          "name": "stdout"
        }
      ]
    },
    {
      "cell_type": "code",
      "metadata": {
        "colab": {
          "base_uri": "https://localhost:8080/"
        },
        "id": "UAZx4R3IDvyo",
        "outputId": "15c1eaaa-f0d8-49ee-8284-c18425903836"
      },
      "source": [
        "# remove all items\n",
        "squares.clear()\n",
        "# Output: {}\n",
        "print(squares)"
      ],
      "execution_count": 18,
      "outputs": [
        {
          "output_type": "stream",
          "text": [
            "{}\n"
          ],
          "name": "stdout"
        }
      ]
    },
    {
      "cell_type": "code",
      "metadata": {
        "colab": {
          "base_uri": "https://localhost:8080/",
          "height": 198
        },
        "id": "UyZlAZgyD4UA",
        "outputId": "a0292f8f-352f-4329-b221-4f78c5ecba2f"
      },
      "source": [
        "# delete the dictionary itself\n",
        "del squares\n",
        "\n",
        "# Throws Error\n",
        "print(squares)"
      ],
      "execution_count": 19,
      "outputs": [
        {
          "output_type": "error",
          "ename": "NameError",
          "evalue": "ignored",
          "traceback": [
            "\u001b[0;31m---------------------------------------------------------------------------\u001b[0m",
            "\u001b[0;31mNameError\u001b[0m                                 Traceback (most recent call last)",
            "\u001b[0;32m<ipython-input-19-d79d8d511c40>\u001b[0m in \u001b[0;36m<module>\u001b[0;34m()\u001b[0m\n\u001b[1;32m      3\u001b[0m \u001b[0;34m\u001b[0m\u001b[0m\n\u001b[1;32m      4\u001b[0m \u001b[0;31m# Throws Error\u001b[0m\u001b[0;34m\u001b[0m\u001b[0;34m\u001b[0m\u001b[0;34m\u001b[0m\u001b[0m\n\u001b[0;32m----> 5\u001b[0;31m \u001b[0mprint\u001b[0m\u001b[0;34m(\u001b[0m\u001b[0msquares\u001b[0m\u001b[0;34m)\u001b[0m\u001b[0;34m\u001b[0m\u001b[0;34m\u001b[0m\u001b[0m\n\u001b[0m",
            "\u001b[0;31mNameError\u001b[0m: name 'squares' is not defined"
          ]
        }
      ]
    },
    {
      "cell_type": "markdown",
      "metadata": {
        "id": "APRCHTiuEEoU"
      },
      "source": [
        "##\tMethods with Description\n",
        "1\tdict.clear()\n",
        "Removes all elements of dictionary dict\n",
        "\n",
        "2\tdict.copy()\n",
        "Returns a shallow copy of dictionary dict\n",
        "\n",
        "3\tdict.fromkeys()\n",
        "Create a new dictionary with keys from seq and values set to value.\n",
        "\n",
        "4\tdict.get(key, default=None)\n",
        "For key key, returns value or default if key not in dictionary\n",
        "\n",
        "5\tdict.has_key(key)\n",
        "Returns true if key in dictionary dict, false otherwise\n",
        "\n",
        "6\tdict.items()\n",
        "Returns a list of dict's (key, value) tuple pairs\n",
        "\n",
        "7\tdict.keys()\n",
        "Returns list of dictionary dict's keys\n",
        "\n",
        "8\tdict.setdefault(key, default=None)\n",
        "Similar to get(), but will set dict[key]=default if key is not already in dict\n",
        "\n",
        "9\tdict.update(dict2)\n",
        "Adds dictionary dict2's key-values pairs to dict\n",
        "\n",
        "10\tdict.values()\n",
        "Returns list of dictionary dict's values"
      ]
    }
  ]
}