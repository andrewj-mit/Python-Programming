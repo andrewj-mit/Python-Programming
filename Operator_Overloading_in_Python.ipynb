{
  "nbformat": 4,
  "nbformat_minor": 0,
  "metadata": {
    "colab": {
      "name": "Operator Overloading in Python.ipynb",
      "provenance": [],
      "authorship_tag": "ABX9TyPo739LGuKwIXugomryQzt7",
      "include_colab_link": true
    },
    "kernelspec": {
      "name": "python3",
      "display_name": "Python 3"
    },
    "language_info": {
      "name": "python"
    }
  },
  "cells": [
    {
      "cell_type": "markdown",
      "metadata": {
        "id": "view-in-github",
        "colab_type": "text"
      },
      "source": [
        "<a href=\"https://colab.research.google.com/github/onesimuj/Python-Programming/blob/main/Operator_Overloading_in_Python.ipynb\" target=\"_parent\"><img src=\"https://colab.research.google.com/assets/colab-badge.svg\" alt=\"Open In Colab\"/></a>"
      ]
    },
    {
      "cell_type": "markdown",
      "metadata": {
        "id": "2k0PALHmu29T"
      },
      "source": [
        "#<b>Operator Overloading</b>"
      ]
    },
    {
      "cell_type": "markdown",
      "metadata": {
        "id": "W4muwA0hu8EQ"
      },
      "source": [
        "\n",
        "* Operator Overloading means giving extended meaning beyond their predefined operational meaning. \n",
        "*  For example operator + is used to add two integers as well as join two strings and merge two lists. \n",
        "* It is achievable because ‘+’ operator is overloaded by int class and str class. \n",
        "* You might have noticed that the same built-in operator or function shows different behavior for objects of different classes, this is called Operator Overloading. "
      ]
    },
    {
      "cell_type": "code",
      "metadata": {
        "colab": {
          "base_uri": "https://localhost:8080/"
        },
        "id": "24arLJZ5uz8l",
        "outputId": "c2805bce-5721-48d3-f674-11cb4193d411"
      },
      "source": [
        "# Python program to show use of\n",
        "# + operator for different purposes.\n",
        "  \n",
        "print(1 + 2)\n",
        "  \n",
        "# concatenate two strings\n",
        "print(\"Hello\"+\"Welcome\") \n",
        "  \n",
        "# Product two numbers\n",
        "print(3 * 4)\n",
        "  \n",
        "# Repeat the String\n",
        "print(\"Hello\"*4)"
      ],
      "execution_count": 1,
      "outputs": [
        {
          "output_type": "stream",
          "text": [
            "3\n",
            "HelloWelcome\n",
            "12\n",
            "HelloHelloHelloHello\n"
          ],
          "name": "stdout"
        }
      ]
    },
    {
      "cell_type": "markdown",
      "metadata": {
        "id": "cBK0PFoqvoDl"
      },
      "source": [
        "* Python operators work for built-in classes. But the same operator behaves differently with different types. \n",
        "* For example, the + operator will perform arithmetic addition on two numbers, merge two lists, or concatenate two strings.\n",
        "* This feature in Python that allows the same operator to have different meaning according to the context is called operator overloading.\n",
        "* "
      ]
    },
    {
      "cell_type": "code",
      "metadata": {
        "colab": {
          "base_uri": "https://localhost:8080/",
          "height": 198
        },
        "id": "DiO79Axtwnzj",
        "outputId": "5b3f4b26-8eae-4c03-dfa1-5cd7c244a01a"
      },
      "source": [
        "class Point:\n",
        "    def __init__(self, x=0, y=0):\n",
        "        self.x = x\n",
        "        self.y = y\n",
        "\n",
        "\n",
        "p1 = Point(1, 2)\n",
        "p2 = Point(2, 3)\n",
        "print(p1+p2)"
      ],
      "execution_count": 9,
      "outputs": [
        {
          "output_type": "error",
          "ename": "TypeError",
          "evalue": "ignored",
          "traceback": [
            "\u001b[0;31m---------------------------------------------------------------------------\u001b[0m",
            "\u001b[0;31mTypeError\u001b[0m                                 Traceback (most recent call last)",
            "\u001b[0;32m<ipython-input-9-117bb3bdfa23>\u001b[0m in \u001b[0;36m<module>\u001b[0;34m()\u001b[0m\n\u001b[1;32m      7\u001b[0m \u001b[0mp1\u001b[0m \u001b[0;34m=\u001b[0m \u001b[0mPoint\u001b[0m\u001b[0;34m(\u001b[0m\u001b[0;36m1\u001b[0m\u001b[0;34m,\u001b[0m \u001b[0;36m2\u001b[0m\u001b[0;34m)\u001b[0m\u001b[0;34m\u001b[0m\u001b[0;34m\u001b[0m\u001b[0m\n\u001b[1;32m      8\u001b[0m \u001b[0mp2\u001b[0m \u001b[0;34m=\u001b[0m \u001b[0mPoint\u001b[0m\u001b[0;34m(\u001b[0m\u001b[0;36m2\u001b[0m\u001b[0;34m,\u001b[0m \u001b[0;36m3\u001b[0m\u001b[0;34m)\u001b[0m\u001b[0;34m\u001b[0m\u001b[0;34m\u001b[0m\u001b[0m\n\u001b[0;32m----> 9\u001b[0;31m \u001b[0mprint\u001b[0m\u001b[0;34m(\u001b[0m\u001b[0mp1\u001b[0m\u001b[0;34m+\u001b[0m\u001b[0mp2\u001b[0m\u001b[0;34m)\u001b[0m\u001b[0;34m\u001b[0m\u001b[0;34m\u001b[0m\u001b[0m\n\u001b[0m",
            "\u001b[0;31mTypeError\u001b[0m: unsupported operand type(s) for +: 'Point' and 'Point'"
          ]
        }
      ]
    },
    {
      "cell_type": "markdown",
      "metadata": {
        "id": "EJLthsRtwxC0"
      },
      "source": [
        "Here, we can see that a TypeError was raised, since Python didn't know how to add two Point objects together."
      ]
    },
    {
      "cell_type": "markdown",
      "metadata": {
        "id": "Kv4tQHd0wylb"
      },
      "source": [
        "* However, we can achieve this task in Python through operator overloading. But first, let's get a notion about special functions."
      ]
    },
    {
      "cell_type": "markdown",
      "metadata": {
        "id": "pBlyfHjox6Xk"
      },
      "source": [
        "##Python Special Functions\n",
        "<pre>\n",
        "Class functions that begin with double underscore __ are called special functions in Python.\n",
        "\n",
        "* These functions are not the typical functions that we define for a class. \n",
        "* The __init__() function we defined above is one of them. \n",
        "* It gets called every time we create a new object of that class.\n",
        "* Using special functions, we can make our class compatible with built-in functions.\n",
        "\n"
      ]
    },
    {
      "cell_type": "markdown",
      "metadata": {
        "id": "OrH-GrlOzeMz"
      },
      "source": [
        "Example: Binary operator overloading"
      ]
    },
    {
      "cell_type": "code",
      "metadata": {
        "colab": {
          "base_uri": "https://localhost:8080/"
        },
        "id": "LiitKOeXztKj",
        "outputId": "2ce3033c-2ea1-491b-d7e6-1ede1605cf76"
      },
      "source": [
        "# Python Program illustrate how \n",
        "# to overload an binary + operator\n",
        "  \n",
        "class A:\n",
        "    def __init__(self, a):\n",
        "        self.a = a\n",
        "  \n",
        "    # adding two objects \n",
        "    def __add__(self, o):\n",
        "        return self.a + o.a \n",
        "    \n",
        "    def __str__(self):\n",
        "        return \"({0})\".format(self.a)\n",
        "\n",
        "ob1 = A(1)\n",
        "ob2 = A(2)\n",
        "ob3 = A(\"Hello\")\n",
        "ob4 = A(\"Welcome\")\n",
        "\n",
        "print(ob1 + ob2)\n",
        "print(ob3 + ob4)\n",
        "\n",
        "print(ob2)"
      ],
      "execution_count": 17,
      "outputs": [
        {
          "output_type": "stream",
          "text": [
            "3\n",
            "HelloWelcome\n",
            "(2)\n"
          ],
          "name": "stdout"
        }
      ]
    },
    {
      "cell_type": "code",
      "metadata": {
        "colab": {
          "base_uri": "https://localhost:8080/"
        },
        "id": "w8fGTEC7wrYK",
        "outputId": "d52992ee-8b8c-4420-9af0-111b34614cda"
      },
      "source": [
        "class Point:\n",
        "    def __init__(self, x=0, y=0):\n",
        "        self.x = x\n",
        "        self.y = y\n",
        "\n",
        "    def __add__(self, other):\n",
        "        x = self.x + other.x\n",
        "        y = self.y + other.y\n",
        "        return Point(x, y)\n",
        "\n",
        "p1 = Point(1, 2)\n",
        "p2 = Point(2, 3)\n",
        "print(p1+p2)"
      ],
      "execution_count": 12,
      "outputs": [
        {
          "output_type": "stream",
          "text": [
            "<__main__.Point object at 0x7f719112fdd0>\n"
          ],
          "name": "stdout"
        }
      ]
    },
    {
      "cell_type": "code",
      "metadata": {
        "colab": {
          "base_uri": "https://localhost:8080/"
        },
        "id": "ZLzFEBRFzWXI",
        "outputId": "07b90a18-307a-4d30-bab7-c12a1440178c"
      },
      "source": [
        "class Point:\n",
        "    def __init__(self, x=0, y=0):\n",
        "        self.x = x\n",
        "        self.y = y\n",
        "\n",
        "    def __str__(self):\n",
        "        return \"({0}, {1})\".format(self.x, self.y)\n",
        "\n",
        "\n",
        "p1 = Point(2, 3)\n",
        "print(p1)"
      ],
      "execution_count": 15,
      "outputs": [
        {
          "output_type": "stream",
          "text": [
            "(2, 3)\n"
          ],
          "name": "stdout"
        }
      ]
    },
    {
      "cell_type": "code",
      "metadata": {
        "colab": {
          "base_uri": "https://localhost:8080/"
        },
        "id": "VXt8L6NXzYMU",
        "outputId": "96cab688-7db2-445c-ba89-0772de07a0cb"
      },
      "source": [
        "class Point:\n",
        "    def __init__(self, x=0, y=0):\n",
        "        self.x = x\n",
        "        self.y = y\n",
        "\n",
        "    def __str__(self):\n",
        "        return \"({0},{1})\".format(self.x, self.y)\n",
        "\n",
        "    def __add__(self, other):\n",
        "        x = self.x + other.x\n",
        "        y = self.y + other.y\n",
        "        return Point(x, y)\n",
        "\n",
        "\n",
        "p1 = Point(1, 2)\n",
        "p2 = Point(2, 3)\n",
        "\n",
        "print(p1+p2)"
      ],
      "execution_count": 18,
      "outputs": [
        {
          "output_type": "stream",
          "text": [
            "(3,5)\n"
          ],
          "name": "stdout"
        }
      ]
    }
  ]
}