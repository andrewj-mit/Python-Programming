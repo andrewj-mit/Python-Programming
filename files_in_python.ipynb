{
  "nbformat": 4,
  "nbformat_minor": 0,
  "metadata": {
    "colab": {
      "name": "files in python.ipynb",
      "provenance": [],
      "collapsed_sections": [],
      "toc_visible": true,
      "authorship_tag": "ABX9TyPt+WuNvD4Io/qhH+0zjefp",
      "include_colab_link": true
    },
    "kernelspec": {
      "name": "python3",
      "display_name": "Python 3"
    }
  },
  "cells": [
    {
      "cell_type": "markdown",
      "metadata": {
        "id": "view-in-github",
        "colab_type": "text"
      },
      "source": [
        "<a href=\"https://colab.research.google.com/github/onesimuj/Python-Programming/blob/main/files_in_python.ipynb\" target=\"_parent\"><img src=\"https://colab.research.google.com/assets/colab-badge.svg\" alt=\"Open In Colab\"/></a>"
      ]
    },
    {
      "cell_type": "markdown",
      "metadata": {
        "id": "w9TvEbvMWRJ0"
      },
      "source": [
        "#Files in Python\n",
        "* Files are non volatile data stored at specific locations in memory. To read or write from/to a file, one first needs to create a reference to the file. This is called the handle to the file.\n",
        "\n",
        "* File handling is an important part of any web application.\n",
        "\n",
        "* Python has several functions for creating, reading, updating, and deleting files.\n",
        "\n",
        "* When we want to read from or write to a file, we need to open it first. When we are done, it needs to be closed so that the resources that are tied with the file are freed.\n",
        "\n",
        "* Hence, in Python, a file operation takes place in the following order:\n",
        "\n",
        "1. Open a file\n",
        "2. Read or write (perform operation)\n",
        "3. Close the file"
      ]
    },
    {
      "cell_type": "markdown",
      "metadata": {
        "id": "EEj5HBa8XqRW"
      },
      "source": [
        "## File Handling\n",
        "The key function for working with files in Python is the open() function.\n",
        "\n",
        "The open() function takes two parameters; filename, and mode.\n",
        "\n",
        "There are four different methods (modes) for opening a file:\n",
        "<br>\n",
        "<pre>\n",
        "\"r\" - Read - Default value. Opens a file for reading, error if the file does not exist\n",
        "\n",
        "\"a\" - Append - Opens a file for appending, creates the file if it does not exist\n",
        "\n",
        "\"w\" - Write - Opens a file for writing, creates the file if it does not exist\n",
        "\n",
        "\"x\" - Create - Creates the specified file, returns an error if the file exists\n",
        "</pre>\n",
        "<br>\n",
        "In addition you can specify if the file should be handled as binary or text mode\n",
        "<pre>\n",
        "\"t\" - Text - Default value. Text mode\n",
        "\"b\" - Binary - Binary mode (e.g. images)\n",
        "</pre>"
      ]
    },
    {
      "cell_type": "markdown",
      "metadata": {
        "id": "B6nhIaQCYlil"
      },
      "source": [
        "##Open a file\n",
        "To open a file for reading it is enough to specify the name of the file:"
      ]
    },
    {
      "cell_type": "code",
      "metadata": {
        "id": "d8Wme-IHfT9v"
      },
      "source": [
        "fh = open(\"file1.txt\",\"x\")"
      ],
      "execution_count": null,
      "outputs": []
    },
    {
      "cell_type": "code",
      "metadata": {
        "id": "pZpa41Y2WMmv"
      },
      "source": [
        "f = open(\"sample.txt\")"
      ],
      "execution_count": null,
      "outputs": []
    },
    {
      "cell_type": "markdown",
      "metadata": {
        "id": "GVa2s6VxWmqW"
      },
      "source": [
        "## Reading a File"
      ]
    },
    {
      "cell_type": "code",
      "metadata": {
        "colab": {
          "base_uri": "https://localhost:8080/"
        },
        "id": "_bQQ-hHwWl5a",
        "outputId": "cda7446e-8392-45ce-980b-7261bfde00d3"
      },
      "source": [
        "f = open(\"sample.txt\",\"r\")\n",
        "#read-only mode\n",
        "\n",
        "print(\"--- File content ---\")\n",
        "\n",
        "for line in f:\n",
        "  print(line, end =\"\") \n",
        "#no need to add a new line\n",
        "\n",
        "f.close()\n",
        "print(\"\\n--- File closed ---\")\n"
      ],
      "execution_count": null,
      "outputs": [
        {
          "output_type": "stream",
          "text": [
            "--- File content ---\n",
            "Hello Welcome\n",
            "This is my sample file\n",
            "Welcome to Karunya\n",
            "Thank You\n",
            "--- File closed ---\n"
          ],
          "name": "stdout"
        }
      ]
    },
    {
      "cell_type": "markdown",
      "metadata": {
        "id": "EmihKxNIXU3w"
      },
      "source": [
        "##Opening a file \"with open\""
      ]
    },
    {
      "cell_type": "code",
      "metadata": {
        "colab": {
          "base_uri": "https://localhost:8080/"
        },
        "id": "lYCPtEnlXUFM",
        "outputId": "f70b452a-0a77-4508-98cd-5a9c87ffc9da"
      },
      "source": [
        "print(\"--- File content ---\")\n",
        "with open(\"sample.txt\", \"r\") as f:\n",
        "  for line in f:\n",
        "    print(line, end =\"\") \n",
        "\n",
        "print(\"\\n--- File closed ---\")\n"
      ],
      "execution_count": null,
      "outputs": [
        {
          "output_type": "stream",
          "text": [
            "--- File content ---\n",
            "Hello Welcome\n",
            "This is my sample file\n",
            "Welcome to Karunya\n",
            "Thank You\n",
            "--- File closed ---\n"
          ],
          "name": "stdout"
        }
      ]
    },
    {
      "cell_type": "code",
      "metadata": {
        "colab": {
          "base_uri": "https://localhost:8080/"
        },
        "id": "2l5tCwjCYBqM",
        "outputId": "56b1e539-2115-49e7-e241-e7ab9866b2e2"
      },
      "source": [
        "fh = open(\"sample.txt\", \"r\") \n",
        "#read-only mode\n",
        "\n",
        "content = fh.read()\n",
        "print(\"- Mode1 (the whole file in a string)-\")\n",
        "print(content)\n",
        "print(type(content)) #string class\n",
        "fh.close()\n",
        "print(\"\")\n",
        "\n",
        "print(\"--- Mode2 (line by line) ---\")\n",
        "with open(\"sample.txt\",\"r\") as f:\n",
        "  print(\"Line1: \", f.readline(), end = \"\")\n",
        "  print(\"Line2: \", f.readline(), end = \"\")\n",
        "  print(\"Line3: \", f.readline(), end = \"\")\n",
        "  print(\"Line4: \", f.readline(), end = \"\")\n",
        "  print(\"Line5: \", f.readline(), end = \"\")\n",
        "  print(\"\")\n",
        "\n",
        "print(\"--- Mode3 (all lines as a list) ---\")\n",
        "with open(\"sample.txt\",\"r\") as f:\n",
        "  list1 = f.readlines()\n",
        "  print(type(list1)) #class list\n",
        "  print(list1[0])\n",
        "print(\"\")\n",
        "\n",
        "print(\"--- Mode4 (as a stream) ---\")\n",
        "with open(\"sample.txt\",\"r\") as f:\n",
        "  for line in f:\n",
        "    print(line, end = \"\")\n"
      ],
      "execution_count": null,
      "outputs": [
        {
          "output_type": "stream",
          "text": [
            "- Mode1 (the whole file in a string)-\n",
            "Hello Welcome\n",
            "This is my sample file\n",
            "Welcome to Karunya\n",
            "Thank You\n",
            "<class 'str'>\n",
            "\n",
            "--- Mode2 (line by line) ---\n",
            "Line1:  Hello Welcome\n",
            "Line2:  This is my sample file\n",
            "Line3:  Welcome to Karunya\n",
            "Line4:  Thank YouLine5:  \n",
            "--- Mode3 (all lines as a list) ---\n",
            "<class 'list'>\n",
            "['Hello Welcome\\n', 'This is my sample file\\n', 'Welcome to Karunya\\n', 'Thank You']\n",
            "\n",
            "--- Mode4 (as a stream) ---\n",
            "Hello Welcome\n",
            "This is my sample file\n",
            "Welcome to Karunya\n",
            "Thank You"
          ],
          "name": "stdout"
        }
      ]
    },
    {
      "cell_type": "code",
      "metadata": {
        "colab": {
          "base_uri": "https://localhost:8080/"
        },
        "id": "o1apys5oh6T2",
        "outputId": "97119860-a3d9-46f1-b1ff-bc3d9fa51688"
      },
      "source": [
        "print(\"--- Mode3 (all lines as a list) ---\")\n",
        "with open(\"sample.txt\",\"r\") as f:\n",
        "  list1 = f.readlines()\n",
        "  print(type(list1)) #class list\n",
        "  print(list1[1])\n",
        "print(\"\")"
      ],
      "execution_count": 1,
      "outputs": [
        {
          "output_type": "stream",
          "text": [
            "--- Mode3 (all lines as a list) ---\n",
            "<class 'list'>\n",
            "This is my sample file\n",
            "\n",
            "\n"
          ],
          "name": "stdout"
        }
      ]
    },
    {
      "cell_type": "markdown",
      "metadata": {
        "id": "kn-VEASd7mzE"
      },
      "source": [
        "##Read Only Parts of the File\n",
        "By default the read() method returns the whole text, but you can also specify how many characters you want to return:"
      ]
    },
    {
      "cell_type": "code",
      "metadata": {
        "colab": {
          "base_uri": "https://localhost:8080/"
        },
        "id": "q1WtYjkh6qjP",
        "outputId": "272096a6-0ce7-4551-9afa-c9b45e6ef626"
      },
      "source": [
        "f = open(\"sample.txt\", \"r\")\n",
        "print(f.read(15))"
      ],
      "execution_count": 13,
      "outputs": [
        {
          "output_type": "stream",
          "text": [
            "Hello Welcome\n",
            "T\n"
          ],
          "name": "stdout"
        }
      ]
    },
    {
      "cell_type": "markdown",
      "metadata": {
        "id": "cunad60G72kk"
      },
      "source": [
        "# Writing a File\n",
        "##Write to an Existing File\n",
        "To write to an existing file, you must add a parameter to the open() function:\n",
        "\n",
        "<pre>\n",
        "\"a\" - Append - will append to the end of the file\n",
        "\n",
        "\"w\" - Write - will overwrite any existing content\n",
        "</pre>\n"
      ]
    },
    {
      "cell_type": "code",
      "metadata": {
        "colab": {
          "base_uri": "https://localhost:8080/"
        },
        "id": "spo9ZlQT8WBx",
        "outputId": "64bef108-6592-4a6f-9d35-02136f884455"
      },
      "source": [
        "print(\"--- File content ---\")\n",
        "with open(\"sample.txt\", \"r\") as f:\n",
        "  for line in f:\n",
        "    print(line, end =\"\") \n",
        "\n",
        "print(\"\\n--- File closed ---\")"
      ],
      "execution_count": 14,
      "outputs": [
        {
          "output_type": "stream",
          "text": [
            "--- File content ---\n",
            "Hello Welcome\n",
            "This is my sample file\n",
            "Welcome to Karunya\n",
            "Thank You\n",
            "--- File closed ---\n"
          ],
          "name": "stdout"
        }
      ]
    },
    {
      "cell_type": "code",
      "metadata": {
        "colab": {
          "base_uri": "https://localhost:8080/"
        },
        "id": "wGJT7cwD7rqR",
        "outputId": "1f6b02fe-48b0-4ebf-cd63-72954929388e"
      },
      "source": [
        "f = open(\"sample.txt\", \"a\")\n",
        "f.write(\"\\nNow the file has more content!\")\n",
        "f.close()\n",
        "\n",
        "#open and read the file after the appending:\n",
        "f = open(\"sample.txt\", \"r\")\n",
        "print(f.read())"
      ],
      "execution_count": 15,
      "outputs": [
        {
          "output_type": "stream",
          "text": [
            "Hello Welcome\n",
            "This is my sample file\n",
            "Welcome to Karunya\n",
            "Thank You\n",
            "Now the file has more content!\n"
          ],
          "name": "stdout"
        }
      ]
    },
    {
      "cell_type": "markdown",
      "metadata": {
        "id": "-pqf_eBB7fQD"
      },
      "source": [
        "##Create a New File\n",
        "To create a new file in Python, use the open() method, with one of the following parameters:\n",
        "<pre>\n",
        "\"x\" - Create - will create a file, returns an error if the file exist\n",
        "\n",
        "\"a\" - Append - will create a file if the specified file does not exist\n",
        "\n",
        "\"w\" - Write - will create a file if the specified file does not exist"
      ]
    },
    {
      "cell_type": "code",
      "metadata": {
        "id": "5bF1tE0W7rpQ"
      },
      "source": [
        "f = open(\"myfile1.txt\", \"x\")"
      ],
      "execution_count": 16,
      "outputs": []
    },
    {
      "cell_type": "code",
      "metadata": {
        "id": "_9UgEC6I8HRK"
      },
      "source": [
        "f = open(\"myfile2.txt\",\"w\")"
      ],
      "execution_count": 17,
      "outputs": []
    },
    {
      "cell_type": "code",
      "metadata": {
        "id": "T3X-pjpr8Mzn"
      },
      "source": [
        "f = open(\"myfile3.txt\",\"a\")"
      ],
      "execution_count": 18,
      "outputs": []
    },
    {
      "cell_type": "code",
      "metadata": {
        "id": "YaiLLNG78ZBH"
      },
      "source": [
        "f = open(\"sample.txt\", \"w\")\n",
        "f.writelines(\"Hello Welcome\")\n",
        "f.close()\n"
      ],
      "execution_count": 21,
      "outputs": []
    }
  ]
}