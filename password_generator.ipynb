{
  "nbformat": 4,
  "nbformat_minor": 0,
  "metadata": {
    "colab": {
      "name": "password generator.ipynb",
      "provenance": [],
      "authorship_tag": "ABX9TyMxxFHEoYy+ARdURsHv0Dde",
      "include_colab_link": true
    },
    "kernelspec": {
      "name": "python3",
      "display_name": "Python 3"
    }
  },
  "cells": [
    {
      "cell_type": "markdown",
      "metadata": {
        "id": "view-in-github",
        "colab_type": "text"
      },
      "source": [
        "<a href=\"https://colab.research.google.com/github/onesimuj/Python-Programming/blob/main/password_generator.ipynb\" target=\"_parent\"><img src=\"https://colab.research.google.com/assets/colab-badge.svg\" alt=\"Open In Colab\"/></a>"
      ]
    },
    {
      "cell_type": "code",
      "metadata": {
        "colab": {
          "base_uri": "https://localhost:8080/"
        },
        "id": "sD5U5AazknFM",
        "outputId": "d1d2abfe-e656-4f9d-9634-3bcc02f6b443"
      },
      "source": [
        "import string\n",
        "from random import *\n",
        "characters = string.ascii_letters + string.punctuation  + string.digits\n",
        "password =  \"\".join(choice(characters) for x in range(randint(8, 16)))\n",
        "print (password)"
      ],
      "execution_count": 5,
      "outputs": [
        {
          "output_type": "stream",
          "text": [
            "H=x)PT^fe!SaeZj/\n"
          ],
          "name": "stdout"
        }
      ]
    }
  ]
}