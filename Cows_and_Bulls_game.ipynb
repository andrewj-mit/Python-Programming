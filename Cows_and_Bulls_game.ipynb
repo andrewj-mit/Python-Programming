{
  "nbformat": 4,
  "nbformat_minor": 0,
  "metadata": {
    "colab": {
      "name": "Cows and Bulls game.ipynb",
      "provenance": [],
      "authorship_tag": "ABX9TyM2ncS53kYCKGcAfnfTMUgR",
      "include_colab_link": true
    },
    "kernelspec": {
      "name": "python3",
      "display_name": "Python 3"
    }
  },
  "cells": [
    {
      "cell_type": "markdown",
      "metadata": {
        "id": "view-in-github",
        "colab_type": "text"
      },
      "source": [
        "<a href=\"https://colab.research.google.com/github/onesimuj/Python-Programming/blob/main/Cows_and_Bulls_game.ipynb\" target=\"_parent\"><img src=\"https://colab.research.google.com/assets/colab-badge.svg\" alt=\"Open In Colab\"/></a>"
      ]
    },
    {
      "cell_type": "markdown",
      "metadata": {
        "id": "T0OZEF7RtyQm"
      },
      "source": [
        "# Python – Cows and Bulls game"
      ]
    },
    {
      "cell_type": "markdown",
      "metadata": {
        "id": "3thgyAxtt26t"
      },
      "source": [
        "Cows and Bulls is a pen and paper code-breaking game usually played between 2 players. In this, a player tries to guess a secret code number chosen by the second player. The rules are as follows:\n",
        "\n",
        "* A player will create a secret code, usually a 4-digit number.  This number should have no repeated digits.\n",
        "* Another player makes a guess (4 digit number) to crack the secret number. \n",
        "* Upon making a guess, 2 hints will be provided- Cows and Bulls.\n",
        "* Bulls indicate the number of correct digits in the correct position and cows indicates the number of correct digits in the wrong position. For example, if the secret code is 1234 and the guessed number is 1246 then we have 2 BULLS (for the exact matches of digits 1 and 2) and 1 COW (for the match of digit 4 in the wrong position)\n",
        "* The player keeps on guessing until the secret code is cracked. The player who guesses in the minimum number of tries wins."
      ]
    },
    {
      "cell_type": "code",
      "metadata": {
        "colab": {
          "base_uri": "https://localhost:8080/"
        },
        "id": "7VpE3N_luWWY",
        "outputId": "bc0ef776-06ae-486a-bcde-413ad491c1ed"
      },
      "source": [
        "# Import required module \n",
        "import random  \n",
        "  \n",
        "# Returns list of digits of a number \n",
        "def getDigits(num): \n",
        "    return [int(i) for i in str(num)] \n",
        "      \n",
        "  \n",
        "# Returns \n",
        "# True if number has no duplicate digits  \n",
        "# otherwise False       \n",
        "def noDuplicates(num): \n",
        "    num_li = getDigits(num) \n",
        "    if len(num_li) == len(set(num_li)): \n",
        "        return True\n",
        "    else: \n",
        "        return False\n",
        "  \n",
        "  \n",
        "# Generates a 4 digit number  \n",
        "# with no repeated digits     \n",
        "def generateNum(): \n",
        "    while True: \n",
        "        num = random.randint(1000,9999) \n",
        "        if noDuplicates(num): \n",
        "            return num \n",
        "  \n",
        "  \n",
        "# Returns common digits with exact  \n",
        "# matches (bulls) and the common  \n",
        "# digits in wrong position (cows) \n",
        "def numOfBullsCows(num,guess): \n",
        "    bull_cow = [0,0] \n",
        "    num_li = getDigits(num) \n",
        "    guess_li = getDigits(guess) \n",
        "      \n",
        "    for i,j in zip(num_li,guess_li): \n",
        "          \n",
        "        # common digit present \n",
        "        if j in num_li: \n",
        "          \n",
        "            # common digit exact match \n",
        "            if j == i: \n",
        "                bull_cow[0] += 1\n",
        "              \n",
        "            # common digit match but in wrong position \n",
        "            else: \n",
        "                bull_cow[1] += 1\n",
        "                  \n",
        "    return bull_cow \n",
        "      \n",
        "      \n",
        "# Secret Code \n",
        "num = generateNum() \n",
        "tries =int(input('Enter number of tries: ')) \n",
        "  \n",
        "# Play game until correct guess  \n",
        "# or till no tries left \n",
        "while tries > 0: \n",
        "    guess = int(input(\"Enter your guess: \")) \n",
        "      \n",
        "    if not noDuplicates(guess): \n",
        "        print(\"Number should not have repeated digits. Try again.\") \n",
        "        continue\n",
        "    if guess < 1000 or guess > 9999: \n",
        "        print(\"Enter 4 digit number only. Try again.\") \n",
        "        continue\n",
        "      \n",
        "    bull_cow = numOfBullsCows(num,guess) \n",
        "    print(f\"{bull_cow[0]} bulls, {bull_cow[1]} cows\") \n",
        "    tries -=1\n",
        "      \n",
        "    if bull_cow[0] == 4: \n",
        "        print(\"You guessed right!\") \n",
        "        break\n",
        "else: \n",
        "    print(f\"You ran out of tries. Number was {num}\")"
      ],
      "execution_count": 1,
      "outputs": [
        {
          "output_type": "stream",
          "text": [
            "Enter number of tries: 5\n",
            "Enter your guess: 2456\n",
            "0 bulls, 2 cows\n",
            "Enter your guess: 6542\n",
            "0 bulls, 2 cows\n",
            "Enter your guess: 4265\n",
            "0 bulls, 2 cows\n",
            "Enter your guess: 5246\n",
            "1 bulls, 1 cows\n",
            "Enter your guess: 5796\n",
            "1 bulls, 0 cows\n",
            "You ran out of tries. Number was 5321\n"
          ],
          "name": "stdout"
        }
      ]
    }
  ]
}