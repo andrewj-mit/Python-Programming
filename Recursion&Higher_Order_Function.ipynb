{
  "nbformat": 4,
  "nbformat_minor": 0,
  "metadata": {
    "colab": {
      "name": "Recursion&Higher Order Function.ipynb",
      "provenance": [],
      "authorship_tag": "ABX9TyM/gsrGta8iyT8xX0yPdDf1",
      "include_colab_link": true
    },
    "kernelspec": {
      "name": "python3",
      "display_name": "Python 3"
    },
    "language_info": {
      "name": "python"
    }
  },
  "cells": [
    {
      "cell_type": "markdown",
      "metadata": {
        "id": "view-in-github",
        "colab_type": "text"
      },
      "source": [
        "<a href=\"https://colab.research.google.com/github/onesimuj/Python-Programming/blob/main/Recursion%26Higher_Order_Function.ipynb\" target=\"_parent\"><img src=\"https://colab.research.google.com/assets/colab-badge.svg\" alt=\"Open In Colab\"/></a>"
      ]
    },
    {
      "cell_type": "markdown",
      "metadata": {
        "id": "HP2CMPJmD0fQ"
      },
      "source": [
        "##Python Recursion\n",
        "What is recursion?\n",
        "Recursion is the process of defining something in terms of itself.\n",
        "\n",
        "A physical world example would be to place two parallel mirrors facing each other. Any object in between them would be reflected recursively."
      ]
    },
    {
      "cell_type": "markdown",
      "metadata": {
        "id": "bF9zPGAyD9tc"
      },
      "source": [
        "##Python Recursive Function\n",
        "In Python, we know that a function can call other functions. It is even possible for the function to call itself. These types of construct are termed as recursive functions.\n",
        "\n",
        "The following image shows the working of a recursive function called recurse.\n",
        "![image.png](data:image/png;base64,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)"
      ]
    },
    {
      "cell_type": "code",
      "metadata": {
        "colab": {
          "base_uri": "https://localhost:8080/"
        },
        "id": "he2mKWtgEF5u",
        "outputId": "a1ecd0b4-7a2d-40af-f401-61a08f03a725"
      },
      "source": [
        "def factorial(n):\n",
        "    \"\"\"This is a recursive function\n",
        "    to find the factorial of an integer\"\"\"\n",
        "\n",
        "    if n == 1:\n",
        "        return 1\n",
        "    else:\n",
        "        return (n * factorial(n-1))\n",
        "\n",
        "\n",
        "num = int(input(\"Enter a number to find the factorial\"))\n",
        "print(\"The factorial of\", num, \"is\", factorial(num))"
      ],
      "execution_count": 4,
      "outputs": [
        {
          "output_type": "stream",
          "text": [
            "Enter a number to find the factorial5\n",
            "The factorial of 5 is 120\n"
          ],
          "name": "stdout"
        }
      ]
    },
    {
      "cell_type": "markdown",
      "metadata": {
        "id": "lArpZTlvHjDN"
      },
      "source": [
        "#<b> Higher Order Functions in Python"
      ]
    },
    {
      "cell_type": "markdown",
      "metadata": {
        "id": "9rI75wb7BjOi"
      },
      "source": [
        "##Functions as objects\n",
        "In Python, a function can be assigned to a variable. This assignment does not call the function, instead a reference to that function is created. "
      ]
    },
    {
      "cell_type": "code",
      "metadata": {
        "colab": {
          "base_uri": "https://localhost:8080/"
        },
        "id": "3N8JulQKBa8c",
        "outputId": "d770e1a3-f545-412c-b05d-49e834dd905f"
      },
      "source": [
        "# Python program to illustrate functions\n",
        "# can be treated as objects\n",
        "def karunya_institute_of_technology_and_sciences(text):\n",
        "\treturn text.upper()\n",
        "\t\n",
        "print(karunya_institute_of_technology_and_sciences('Hello'))\n",
        "\t\n",
        "# Assigning function to a variable\n",
        "kits = karunya_institute_of_technology_and_sciences\n",
        "\t\n",
        "print(kits('Hello'))\n"
      ],
      "execution_count": 5,
      "outputs": [
        {
          "output_type": "stream",
          "text": [
            "HELLO\n",
            "HELLO\n"
          ],
          "name": "stdout"
        }
      ]
    },
    {
      "cell_type": "markdown",
      "metadata": {
        "id": "IwhkVi4OBhiO"
      },
      "source": [
        "##Passing Function as an argument to other function"
      ]
    },
    {
      "cell_type": "code",
      "metadata": {
        "colab": {
          "base_uri": "https://localhost:8080/"
        },
        "id": "SPi1uU4YBDLT",
        "outputId": "aa2142b3-ce8d-4630-8dda-c95cacf88981"
      },
      "source": [
        "# Python program to illustrate functions\n",
        "# can be passed as arguments to other functions\n",
        "def shout(text):\n",
        "\treturn text.upper()\n",
        "\t\n",
        "def whisper(text):\n",
        "\treturn text.lower()\n",
        "\t\n",
        "def greet(func):\n",
        "\t# storing the function in a variable\n",
        "\tgreeting = func(\"Hi, I am created by a function \\\n",
        "\tpassed as an argument.\")\n",
        "\tprint(greeting)\n",
        "\t\n",
        "greet(shout)\n",
        "greet(whisper)\n"
      ],
      "execution_count": 6,
      "outputs": [
        {
          "output_type": "stream",
          "text": [
            "HI, I AM CREATED BY A FUNCTION \tPASSED AS AN ARGUMENT.\n",
            "hi, i am created by a function \tpassed as an argument.\n"
          ],
          "name": "stdout"
        }
      ]
    },
    {
      "cell_type": "markdown",
      "metadata": {
        "id": "JUyNzMezBwk0"
      },
      "source": [
        "##Returning function\n",
        "As functions are objects, we can also return a function from another function. In the below example, the create_adder function returns adder function."
      ]
    },
    {
      "cell_type": "code",
      "metadata": {
        "colab": {
          "base_uri": "https://localhost:8080/"
        },
        "id": "ktFh_ukfB1uC",
        "outputId": "6ad54cbe-46b1-4e55-a531-c6ebfe3647a7"
      },
      "source": [
        "# Python program to illustrate functions\n",
        "# Functions can return another function\n",
        "\t\n",
        "def create_adder(x):\n",
        "\tdef adder(y):\n",
        "\t\treturn x + y\n",
        "\t\n",
        "\treturn adder\n",
        "\t\n",
        "add_15 = create_adder(15)\n",
        "\t\n",
        "print(add_15(10))\n"
      ],
      "execution_count": 7,
      "outputs": [
        {
          "output_type": "stream",
          "text": [
            "25\n"
          ],
          "name": "stdout"
        }
      ]
    }
  ]
}