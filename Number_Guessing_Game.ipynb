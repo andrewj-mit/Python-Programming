{
  "nbformat": 4,
  "nbformat_minor": 0,
  "metadata": {
    "colab": {
      "name": "Number Guessing Game.ipynb",
      "provenance": [],
      "collapsed_sections": [],
      "authorship_tag": "ABX9TyNl1FxDHgp9BPrjES/f1JzZ",
      "include_colab_link": true
    },
    "kernelspec": {
      "name": "python3",
      "display_name": "Python 3"
    }
  },
  "cells": [
    {
      "cell_type": "markdown",
      "metadata": {
        "id": "view-in-github",
        "colab_type": "text"
      },
      "source": [
        "<a href=\"https://colab.research.google.com/github/onesimuj/Python-Programming/blob/main/Number_Guessing_Game.ipynb\" target=\"_parent\"><img src=\"https://colab.research.google.com/assets/colab-badge.svg\" alt=\"Open In Colab\"/></a>"
      ]
    },
    {
      "cell_type": "code",
      "metadata": {
        "id": "oqbp9zf5gxcw",
        "colab": {
          "base_uri": "https://localhost:8080/"
        },
        "outputId": "65b88d83-eda4-42d3-d809-9bc2c3d0dd27"
      },
      "source": [
        "import random\n",
        "n = random.randint(1, 99) #computer's guess\n",
        "guess = int(input(\"Enter an integer from 1 to 99: \"))\n",
        "attempts = 5\n",
        "while attempts > 1:\n",
        "    attempts -= 1\n",
        "    if guess < n:\n",
        "        print (\"guess is low\")\n",
        "        print(attempts,\" Attempts left\")\n",
        "        guess = int(input(\"Enter an integer from 1 to 99: \"))\n",
        "    elif guess > n:\n",
        "        print (\"guess is high\")\n",
        "        print(attempts,\" Attempts left\")\n",
        "        guess = int(input(\"Enter an integer from 1 to 99: \")) \n",
        "    else:\n",
        "        print (\"you guessed it!\")\n",
        "        print(\"Attempts Taken\",attempts)\n",
        "        break\n",
        "else:\n",
        "  print(\"Your guess is wrong\")\n",
        "  print(\"You crossed the number of attempts\")"
      ],
      "execution_count": 10,
      "outputs": [
        {
          "output_type": "stream",
          "text": [
            "Enter an integer from 1 to 99: 4\n",
            "guess is low\n",
            "4  Attempts left\n",
            "Enter an integer from 1 to 99: 50\n",
            "guess is high\n",
            "3  Attempts left\n",
            "Enter an integer from 1 to 99: 30\n",
            "guess is low\n",
            "2  Attempts left\n",
            "Enter an integer from 1 to 99: 40\n",
            "guess is high\n",
            "1  Attempts left\n",
            "Enter an integer from 1 to 99: 35\n",
            "Your guess is wrong\n",
            "You crossed the number of attempts\n"
          ],
          "name": "stdout"
        }
      ]
    }
  ]
}